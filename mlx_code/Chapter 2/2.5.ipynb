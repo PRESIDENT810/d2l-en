{
 "cells": [
  {
   "cell_type": "code",
   "execution_count": 1,
   "id": "1078259a-21a3-43fe-88a2-bb0fbc411911",
   "metadata": {},
   "outputs": [],
   "source": [
    "import mlx.core as mx"
   ]
  },
  {
   "cell_type": "code",
   "execution_count": 2,
   "id": "c525a6bd-52d2-4be0-b5a6-1209fafd2900",
   "metadata": {},
   "outputs": [
    {
     "data": {
      "text/plain": [
       "array([0, 1, 2, 3], dtype=float32)"
      ]
     },
     "execution_count": 2,
     "metadata": {},
     "output_type": "execute_result"
    }
   ],
   "source": [
    "x = mx.arange(4.0)\n",
    "x"
   ]
  },
  {
   "cell_type": "code",
   "execution_count": 4,
   "id": "7b76a984-30d0-44a3-a727-bb2a83fe7fac",
   "metadata": {},
   "outputs": [
    {
     "data": {
      "text/plain": [
       "array(28, dtype=float32)"
      ]
     },
     "execution_count": 4,
     "metadata": {},
     "output_type": "execute_result"
    }
   ],
   "source": [
    "y = lambda x : 2 * mx.tensordot(x, x, dims=1)\n",
    "y(x)"
   ]
  },
  {
   "cell_type": "code",
   "execution_count": 6,
   "id": "3e558771-c671-4f43-8639-83cd898510c6",
   "metadata": {},
   "outputs": [
    {
     "data": {
      "text/plain": [
       "array([0, 4, 8, 12], dtype=float32)"
      ]
     },
     "execution_count": 6,
     "metadata": {},
     "output_type": "execute_result"
    }
   ],
   "source": [
    "from mlx.core import grad\n",
    "\n",
    "x_grad = grad(y)(x)\n",
    "x_grad"
   ]
  },
  {
   "cell_type": "code",
   "execution_count": 7,
   "id": "a809defc-cbe3-4e53-98e2-e91846ab8103",
   "metadata": {},
   "outputs": [
    {
     "data": {
      "text/plain": [
       "array([true, true, true, true], dtype=bool)"
      ]
     },
     "execution_count": 7,
     "metadata": {},
     "output_type": "execute_result"
    }
   ],
   "source": [
    "x_grad == 4 * x"
   ]
  },
  {
   "cell_type": "code",
   "execution_count": 8,
   "id": "9b19e2c2-2a5b-4350-93ca-6de313c301d6",
   "metadata": {},
   "outputs": [
    {
     "data": {
      "text/plain": [
       "array([1, 1, 1, 1], dtype=int32)"
      ]
     },
     "execution_count": 8,
     "metadata": {},
     "output_type": "execute_result"
    }
   ],
   "source": [
    "y = lambda x : x.sum()\n",
    "grad(y)(x)"
   ]
  },
  {
   "cell_type": "code",
   "execution_count": 11,
   "id": "87671a90-11a0-4122-94b3-b56ec2bb96ad",
   "metadata": {},
   "outputs": [
    {
     "data": {
      "text/plain": [
       "array([0, 2, 4, 6], dtype=float32)"
      ]
     },
     "execution_count": 11,
     "metadata": {},
     "output_type": "execute_result"
    }
   ],
   "source": [
    "y = lambda x : x * x\n",
    "# grad is only defined for scalar output functions\n",
    "grad(lambda x : y(x).sum())(x)"
   ]
  },
  {
   "cell_type": "code",
   "execution_count": 18,
   "id": "dd226130-cfea-4706-9177-2b6af3e30274",
   "metadata": {},
   "outputs": [
    {
     "data": {
      "text/plain": [
       "array([true, true, true, true], dtype=bool)"
      ]
     },
     "execution_count": 18,
     "metadata": {},
     "output_type": "execute_result"
    }
   ],
   "source": [
    "y = lambda x : x * x\n",
    "u = mx.stop_gradient(y(x))\n",
    "z = lambda x : u * x\n",
    "\n",
    "grad(lambda x : z(x).sum())(x) == y(x)"
   ]
  },
  {
   "cell_type": "code",
   "execution_count": 19,
   "id": "e264baa1-f59c-4e66-bd33-e7ec4f71ff90",
   "metadata": {},
   "outputs": [
    {
     "data": {
      "text/plain": [
       "array([true, true, true, true], dtype=bool)"
      ]
     },
     "execution_count": 19,
     "metadata": {},
     "output_type": "execute_result"
    }
   ],
   "source": [
    "grad(lambda x : y(x).sum())(x) == 2 * x"
   ]
  },
  {
   "cell_type": "code",
   "execution_count": 20,
   "id": "e95bf0ec-8bae-419b-b9bb-1743f675558d",
   "metadata": {},
   "outputs": [],
   "source": [
    "def f(a):\n",
    "    b = a * 2\n",
    "    while mx.linalg.norm(b) < 1000:\n",
    "        b = b * 2\n",
    "    if b.sum() > 0:\n",
    "        c = b\n",
    "    else:\n",
    "        c = 100 * b\n",
    "    return c"
   ]
  },
  {
   "cell_type": "code",
   "execution_count": 21,
   "id": "db3d2e3b-103b-4b3f-984e-72d280f5007f",
   "metadata": {},
   "outputs": [],
   "source": [
    "a = mx.random.normal([])\n",
    "d = f(a)\n",
    "d_grad = grad(f)(a)"
   ]
  },
  {
   "cell_type": "code",
   "execution_count": 22,
   "id": "840dacf6-0ccc-4c96-b042-137c5afdda38",
   "metadata": {},
   "outputs": [
    {
     "data": {
      "text/plain": [
       "array(true, dtype=bool)"
      ]
     },
     "execution_count": 22,
     "metadata": {},
     "output_type": "execute_result"
    }
   ],
   "source": [
    "d_grad == d / a"
   ]
  },
  {
   "cell_type": "code",
   "execution_count": null,
   "id": "33ab154a-807d-4cc7-be78-96f15e624aa7",
   "metadata": {},
   "outputs": [],
   "source": []
  }
 ],
 "metadata": {
  "kernelspec": {
   "display_name": "Python 3 (ipykernel)",
   "language": "python",
   "name": "python3"
  },
  "language_info": {
   "codemirror_mode": {
    "name": "ipython",
    "version": 3
   },
   "file_extension": ".py",
   "mimetype": "text/x-python",
   "name": "python",
   "nbconvert_exporter": "python",
   "pygments_lexer": "ipython3",
   "version": "3.9.6"
  }
 },
 "nbformat": 4,
 "nbformat_minor": 5
}
