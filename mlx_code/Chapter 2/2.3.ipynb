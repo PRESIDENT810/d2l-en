{
 "cells": [
  {
   "cell_type": "code",
   "execution_count": 1,
   "id": "04297fab-1466-4b6c-bcc0-746c1e22722e",
   "metadata": {},
   "outputs": [],
   "source": [
    "import mlx.core as mx"
   ]
  },
  {
   "cell_type": "code",
   "execution_count": 2,
   "id": "2e14a9fb-7a18-41af-814d-abfb6939669f",
   "metadata": {},
   "outputs": [
    {
     "data": {
      "text/plain": [
       "(array(5, dtype=float32),\n",
       " array(6, dtype=float32),\n",
       " array(1.5, dtype=float32),\n",
       " array(9, dtype=float32))"
      ]
     },
     "execution_count": 2,
     "metadata": {},
     "output_type": "execute_result"
    }
   ],
   "source": [
    "x = mx.array(3.0)\n",
    "y = mx.array(2.0)\n",
    "\n",
    "x + y, x * y, x / y, x**y"
   ]
  },
  {
   "cell_type": "code",
   "execution_count": 3,
   "id": "7d98086e-802b-46ba-9d05-985aa9681808",
   "metadata": {},
   "outputs": [
    {
     "data": {
      "text/plain": [
       "array([0, 1, 2, 3], dtype=int32)"
      ]
     },
     "execution_count": 3,
     "metadata": {},
     "output_type": "execute_result"
    }
   ],
   "source": [
    "x = mx.arange(4)\n",
    "x"
   ]
  },
  {
   "cell_type": "code",
   "execution_count": 4,
   "id": "a77d84c9-06ba-4a61-a1cc-e760d6a25fdf",
   "metadata": {},
   "outputs": [
    {
     "data": {
      "text/plain": [
       "array(3, dtype=int32)"
      ]
     },
     "execution_count": 4,
     "metadata": {},
     "output_type": "execute_result"
    }
   ],
   "source": [
    "x[3]"
   ]
  },
  {
   "cell_type": "code",
   "execution_count": 5,
   "id": "034c60bc-e90a-4121-823a-4dc51a73327c",
   "metadata": {},
   "outputs": [
    {
     "data": {
      "text/plain": [
       "4"
      ]
     },
     "execution_count": 5,
     "metadata": {},
     "output_type": "execute_result"
    }
   ],
   "source": [
    "len(x)"
   ]
  },
  {
   "cell_type": "code",
   "execution_count": 6,
   "id": "9c6aa194-9d55-4297-8bfd-4de7b9de36fe",
   "metadata": {},
   "outputs": [
    {
     "data": {
      "text/plain": [
       "[4]"
      ]
     },
     "execution_count": 6,
     "metadata": {},
     "output_type": "execute_result"
    }
   ],
   "source": [
    "x.shape"
   ]
  },
  {
   "cell_type": "code",
   "execution_count": 8,
   "id": "828fd515-1343-4da0-aedc-981762d1e7e8",
   "metadata": {},
   "outputs": [
    {
     "data": {
      "text/plain": [
       "array([[0, 1, 2, 3],\n",
       "       [4, 5, 6, 7],\n",
       "       [8, 9, 10, 11],\n",
       "       [12, 13, 14, 15],\n",
       "       [16, 17, 18, 19]], dtype=int32)"
      ]
     },
     "execution_count": 8,
     "metadata": {},
     "output_type": "execute_result"
    }
   ],
   "source": [
    "A = mx.arange(20).reshape(5, 4)\n",
    "A"
   ]
  },
  {
   "cell_type": "code",
   "execution_count": 9,
   "id": "6afd7d88-f6a8-4c1c-aa84-baf6c2cc17d4",
   "metadata": {},
   "outputs": [
    {
     "data": {
      "text/plain": [
       "array([[0, 4, 8, 12, 16],\n",
       "       [1, 5, 9, 13, 17],\n",
       "       [2, 6, 10, 14, 18],\n",
       "       [3, 7, 11, 15, 19]], dtype=int32)"
      ]
     },
     "execution_count": 9,
     "metadata": {},
     "output_type": "execute_result"
    }
   ],
   "source": [
    "A.T"
   ]
  },
  {
   "cell_type": "code",
   "execution_count": 10,
   "id": "44b3c88c-c9b8-486d-8c42-95285d2b7d34",
   "metadata": {},
   "outputs": [
    {
     "data": {
      "text/plain": [
       "array([[1, 2, 3],\n",
       "       [2, 0, 4],\n",
       "       [3, 4, 5]], dtype=int32)"
      ]
     },
     "execution_count": 10,
     "metadata": {},
     "output_type": "execute_result"
    }
   ],
   "source": [
    "B = mx.array([[1, 2, 3], [2, 0, 4], [3, 4, 5]])\n",
    "B"
   ]
  },
  {
   "cell_type": "code",
   "execution_count": 11,
   "id": "0e02ada8-0c6f-4d30-81f2-aec00d5568d1",
   "metadata": {},
   "outputs": [
    {
     "data": {
      "text/plain": [
       "array([[true, true, true],\n",
       "       [true, true, true],\n",
       "       [true, true, true]], dtype=bool)"
      ]
     },
     "execution_count": 11,
     "metadata": {},
     "output_type": "execute_result"
    }
   ],
   "source": [
    "B == B.T"
   ]
  },
  {
   "cell_type": "code",
   "execution_count": 12,
   "id": "4ee150c2-f5f5-40d8-85d1-8c526018ece1",
   "metadata": {},
   "outputs": [
    {
     "data": {
      "text/plain": [
       "array([[[0, 1, 2, 3],\n",
       "        [4, 5, 6, 7],\n",
       "        [8, 9, 10, 11]],\n",
       "       [[12, 13, 14, 15],\n",
       "        [16, 17, 18, 19],\n",
       "        [20, 21, 22, 23]]], dtype=int32)"
      ]
     },
     "execution_count": 12,
     "metadata": {},
     "output_type": "execute_result"
    }
   ],
   "source": [
    "X = mx.arange(24).reshape(2, 3, 4)\n",
    "X"
   ]
  },
  {
   "cell_type": "code",
   "execution_count": 35,
   "id": "c14782f8-ce4e-4f79-a92d-985cd62b38ff",
   "metadata": {},
   "outputs": [
    {
     "data": {
      "text/plain": [
       "(array([[0, 1, 2],\n",
       "        [3, 4, 5]], dtype=float32),\n",
       " array([[0, 2, 4],\n",
       "        [6, 8, 10]], dtype=float32))"
      ]
     },
     "execution_count": 35,
     "metadata": {},
     "output_type": "execute_result"
    }
   ],
   "source": [
    "A = mx.arange(6, dtype=mx.float32).reshape(2, 3)\n",
    "B = A\n",
    "A, A+B"
   ]
  },
  {
   "cell_type": "code",
   "execution_count": 36,
   "id": "7a507695-8d92-4ee0-8a71-8f67d64233b1",
   "metadata": {},
   "outputs": [
    {
     "data": {
      "text/plain": [
       "array([[0, 1, 4],\n",
       "       [9, 16, 25]], dtype=float32)"
      ]
     },
     "execution_count": 36,
     "metadata": {},
     "output_type": "execute_result"
    }
   ],
   "source": [
    "A * B"
   ]
  },
  {
   "cell_type": "code",
   "execution_count": 37,
   "id": "9bfe699f-ba7d-4b03-b314-2d0a4476aeef",
   "metadata": {},
   "outputs": [
    {
     "data": {
      "text/plain": [
       "(array([[[2, 3, 4, 5],\n",
       "         [6, 7, 8, 9],\n",
       "         [10, 11, 12, 13]],\n",
       "        [[14, 15, 16, 17],\n",
       "         [18, 19, 20, 21],\n",
       "         [22, 23, 24, 25]]], dtype=int32),\n",
       " [2, 3, 4])"
      ]
     },
     "execution_count": 37,
     "metadata": {},
     "output_type": "execute_result"
    }
   ],
   "source": [
    "a = 2\n",
    "X = mx.arange(24).reshape(2, 3, 4)\n",
    "a + X, (a * X).shape"
   ]
  },
  {
   "cell_type": "code",
   "execution_count": 38,
   "id": "d2634dc2-5a14-4604-b0ca-16b0ee0113a9",
   "metadata": {},
   "outputs": [
    {
     "data": {
      "text/plain": [
       "(array([0, 1, 2], dtype=float32), array(3, dtype=float32))"
      ]
     },
     "execution_count": 38,
     "metadata": {},
     "output_type": "execute_result"
    }
   ],
   "source": [
    "x = mx.arange(3, dtype=mx.float32)\n",
    "x, x.sum()"
   ]
  },
  {
   "cell_type": "code",
   "execution_count": 39,
   "id": "616d5b9e-031a-44fd-89f6-05d1878f819f",
   "metadata": {},
   "outputs": [
    {
     "data": {
      "text/plain": [
       "([2, 3], array(15, dtype=float32))"
      ]
     },
     "execution_count": 39,
     "metadata": {},
     "output_type": "execute_result"
    }
   ],
   "source": [
    "A.shape, A.sum()"
   ]
  },
  {
   "cell_type": "code",
   "execution_count": 40,
   "id": "50b9c101-c50e-4513-9ab3-43ec8dd38ad5",
   "metadata": {},
   "outputs": [
    {
     "data": {
      "text/plain": [
       "([2, 3], [3])"
      ]
     },
     "execution_count": 40,
     "metadata": {},
     "output_type": "execute_result"
    }
   ],
   "source": [
    "A.shape, A.sum(axis=0).shape"
   ]
  },
  {
   "cell_type": "code",
   "execution_count": 41,
   "id": "5a1fc96a-4939-4207-a494-40241fa1bfb2",
   "metadata": {},
   "outputs": [
    {
     "data": {
      "text/plain": [
       "([2, 3], [2])"
      ]
     },
     "execution_count": 41,
     "metadata": {},
     "output_type": "execute_result"
    }
   ],
   "source": [
    "A.shape, A.sum(axis=1).shape"
   ]
  },
  {
   "cell_type": "code",
   "execution_count": 42,
   "id": "6159bc90-4d53-45ff-88ca-1e4e6d14ed51",
   "metadata": {},
   "outputs": [
    {
     "data": {
      "text/plain": [
       "array(true, dtype=bool)"
      ]
     },
     "execution_count": 42,
     "metadata": {},
     "output_type": "execute_result"
    }
   ],
   "source": [
    "A.sum(axis=[0, 1]) == A.sum()"
   ]
  },
  {
   "cell_type": "code",
   "execution_count": 45,
   "id": "adedd6f6-0ac9-4b70-a661-8c2e99dd119d",
   "metadata": {},
   "outputs": [
    {
     "data": {
      "text/plain": [
       "(array(2.5, dtype=float32), array(2.5, dtype=float32))"
      ]
     },
     "execution_count": 45,
     "metadata": {},
     "output_type": "execute_result"
    }
   ],
   "source": [
    "A.mean(), A.sum() / A.size"
   ]
  },
  {
   "cell_type": "code",
   "execution_count": 46,
   "id": "3cbbe0b9-3dfb-4628-b98e-1ca685b8b146",
   "metadata": {},
   "outputs": [
    {
     "data": {
      "text/plain": [
       "(array([1.5, 2.5, 3.5], dtype=float32), array([1.5, 2.5, 3.5], dtype=float32))"
      ]
     },
     "execution_count": 46,
     "metadata": {},
     "output_type": "execute_result"
    }
   ],
   "source": [
    "A.mean(axis=0), A.sum(axis=0) / A.shape[0]"
   ]
  },
  {
   "cell_type": "code",
   "execution_count": 47,
   "id": "3f27f0ed-f371-46d1-b021-07b79e11ced6",
   "metadata": {},
   "outputs": [
    {
     "data": {
      "text/plain": [
       "(array([[3],\n",
       "        [12]], dtype=float32),\n",
       " [2, 1])"
      ]
     },
     "execution_count": 47,
     "metadata": {},
     "output_type": "execute_result"
    }
   ],
   "source": [
    "sum_A = A.sum(axis=1, keepdims=True)\n",
    "sum_A, sum_A.shape"
   ]
  },
  {
   "cell_type": "code",
   "execution_count": 48,
   "id": "ece15519-4e1d-4303-947c-169702643a38",
   "metadata": {},
   "outputs": [
    {
     "data": {
      "text/plain": [
       "array([[0, 0.333333, 0.666667],\n",
       "       [0.25, 0.333333, 0.416667]], dtype=float32)"
      ]
     },
     "execution_count": 48,
     "metadata": {},
     "output_type": "execute_result"
    }
   ],
   "source": [
    "A / sum_A"
   ]
  },
  {
   "cell_type": "code",
   "execution_count": 49,
   "id": "0b937f08-600f-4727-a0d1-b7ead88a051e",
   "metadata": {},
   "outputs": [
    {
     "data": {
      "text/plain": [
       "array([[0, 1, 2],\n",
       "       [3, 5, 7]], dtype=float32)"
      ]
     },
     "execution_count": 49,
     "metadata": {},
     "output_type": "execute_result"
    }
   ],
   "source": [
    "A.cumsum(axis=0)"
   ]
  },
  {
   "cell_type": "code",
   "execution_count": 52,
   "id": "08d8ab4d-1355-4906-bd00-534d2f935e05",
   "metadata": {},
   "outputs": [
    {
     "data": {
      "text/plain": [
       "(array([0, 1, 2], dtype=float32),\n",
       " array([1, 1, 1], dtype=float32),\n",
       " array(3, dtype=float32))"
      ]
     },
     "execution_count": 52,
     "metadata": {},
     "output_type": "execute_result"
    }
   ],
   "source": [
    "y = mx.ones(3, dtype=mx.float32)\n",
    "x, y, mx.tensordot(x, y, dims=1)"
   ]
  },
  {
   "cell_type": "code",
   "execution_count": 53,
   "id": "2b553c30-5cab-430f-8e99-7efec0e35f2d",
   "metadata": {},
   "outputs": [
    {
     "data": {
      "text/plain": [
       "array(3, dtype=float32)"
      ]
     },
     "execution_count": 53,
     "metadata": {},
     "output_type": "execute_result"
    }
   ],
   "source": [
    "mx.sum(x * y)"
   ]
  },
  {
   "cell_type": "code",
   "execution_count": 54,
   "id": "76cceb05-abc1-4789-b14e-316dbfc37314",
   "metadata": {},
   "outputs": [
    {
     "data": {
      "text/plain": [
       "([2, 3], [3], array([5, 14], dtype=float32), array([5, 14], dtype=float32))"
      ]
     },
     "execution_count": 54,
     "metadata": {},
     "output_type": "execute_result"
    }
   ],
   "source": [
    "A.shape, x.shape, mx.matmul(A, x), A@x"
   ]
  },
  {
   "cell_type": "code",
   "execution_count": 56,
   "id": "bbbc67ce-6f92-4fb2-9ea0-e1128d7bd2ac",
   "metadata": {},
   "outputs": [
    {
     "data": {
      "text/plain": [
       "(array([[3, 3, 3, 3],\n",
       "        [12, 12, 12, 12]], dtype=float32),\n",
       " array([[3, 3, 3, 3],\n",
       "        [12, 12, 12, 12]], dtype=float32))"
      ]
     },
     "execution_count": 56,
     "metadata": {},
     "output_type": "execute_result"
    }
   ],
   "source": [
    "B = mx.ones((3, 4))\n",
    "mx.matmul(A, B), A@B"
   ]
  },
  {
   "cell_type": "code",
   "execution_count": 58,
   "id": "c7bcf745-3183-4ae6-92b9-59c3bfaa88cb",
   "metadata": {},
   "outputs": [
    {
     "data": {
      "text/plain": [
       "array(5, dtype=float32)"
      ]
     },
     "execution_count": 58,
     "metadata": {},
     "output_type": "execute_result"
    }
   ],
   "source": [
    "u = mx.array([3.0, -4.0])\n",
    "mx.linalg.norm(u)"
   ]
  },
  {
   "cell_type": "code",
   "execution_count": 59,
   "id": "e597267c-9ee2-42c5-b0c6-532495eccc73",
   "metadata": {},
   "outputs": [
    {
     "data": {
      "text/plain": [
       "array(7, dtype=float32)"
      ]
     },
     "execution_count": 59,
     "metadata": {},
     "output_type": "execute_result"
    }
   ],
   "source": [
    "mx.abs(u).sum()"
   ]
  },
  {
   "cell_type": "code",
   "execution_count": 60,
   "id": "175fa884-1303-4dd3-b9e8-1a84dfe83e6c",
   "metadata": {},
   "outputs": [
    {
     "data": {
      "text/plain": [
       "array(6, dtype=float32)"
      ]
     },
     "execution_count": 60,
     "metadata": {},
     "output_type": "execute_result"
    }
   ],
   "source": [
    "mx.linalg.norm(mx.ones((4, 9)))"
   ]
  },
  {
   "cell_type": "code",
   "execution_count": null,
   "id": "23354096-6147-4bf5-b1fb-8752f23b8e55",
   "metadata": {},
   "outputs": [],
   "source": []
  }
 ],
 "metadata": {
  "kernelspec": {
   "display_name": "Python 3 (ipykernel)",
   "language": "python",
   "name": "python3"
  },
  "language_info": {
   "codemirror_mode": {
    "name": "ipython",
    "version": 3
   },
   "file_extension": ".py",
   "mimetype": "text/x-python",
   "name": "python",
   "nbconvert_exporter": "python",
   "pygments_lexer": "ipython3",
   "version": "3.9.6"
  }
 },
 "nbformat": 4,
 "nbformat_minor": 5
}
