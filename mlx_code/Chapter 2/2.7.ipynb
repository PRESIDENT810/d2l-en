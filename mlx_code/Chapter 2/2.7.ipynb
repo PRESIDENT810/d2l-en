{
 "cells": [
  {
   "cell_type": "code",
   "execution_count": 3,
   "id": "d7314c04-f751-452f-bd7a-3c2fc7771f9b",
   "metadata": {},
   "outputs": [],
   "source": [
    "import mlx.core as mx"
   ]
  },
  {
   "cell_type": "code",
   "execution_count": 4,
   "id": "9fc5e901-c5bb-4ebc-b882-b8c98dbe30a6",
   "metadata": {},
   "outputs": [
    {
     "name": "stdout",
     "output_type": "stream",
     "text": [
      "['__doc__', '__loader__', '__name__', '__package__', '__spec__', 'bernoulli', 'categorical', 'gumbel', 'key', 'normal', 'randint', 'seed', 'split', 'truncated_normal', 'uniform']\n"
     ]
    }
   ],
   "source": [
    "print(dir(mx.random))"
   ]
  },
  {
   "cell_type": "code",
   "execution_count": 5,
   "id": "1d7932f4-246c-4853-b887-193ec3a51701",
   "metadata": {},
   "outputs": [
    {
     "name": "stdout",
     "output_type": "stream",
     "text": [
      "Help on built-in function ones in module mlx.core:\n",
      "\n",
      "ones(...) method of builtins.PyCapsule instance\n",
      "    ones(shape: Union[int, List[int]], dtype: Optional[Dtype] = None, *, stream: Union[None, Stream, Device] = None) -> array\n",
      "    \n",
      "    Construct an array of ones.\n",
      "    \n",
      "    Args:\n",
      "        shape (int or list(int)): The shape of the output array.\n",
      "        dtype (Dtype, optional): Data type of the output array. If\n",
      "          unspecified the output type defaults to ``float32``.\n",
      "    \n",
      "    Returns:\n",
      "        array: The array of ones with the specified shape.\n",
      "\n"
     ]
    }
   ],
   "source": [
    "help(mx.ones)"
   ]
  },
  {
   "cell_type": "code",
   "execution_count": 6,
   "id": "313e3a50-8c59-4e2c-8a24-a809095ff1a6",
   "metadata": {},
   "outputs": [
    {
     "data": {
      "text/plain": [
       "array([1, 1, 1, 1], dtype=float32)"
      ]
     },
     "execution_count": 6,
     "metadata": {},
     "output_type": "execute_result"
    }
   ],
   "source": [
    "mx.ones(4)"
   ]
  },
  {
   "cell_type": "code",
   "execution_count": null,
   "id": "1e2364d6-9ab8-4d41-9c45-3c338f7bb377",
   "metadata": {},
   "outputs": [],
   "source": []
  }
 ],
 "metadata": {
  "kernelspec": {
   "display_name": "Python 3 (ipykernel)",
   "language": "python",
   "name": "python3"
  },
  "language_info": {
   "codemirror_mode": {
    "name": "ipython",
    "version": 3
   },
   "file_extension": ".py",
   "mimetype": "text/x-python",
   "name": "python",
   "nbconvert_exporter": "python",
   "pygments_lexer": "ipython3",
   "version": "3.9.6"
  }
 },
 "nbformat": 4,
 "nbformat_minor": 5
}
